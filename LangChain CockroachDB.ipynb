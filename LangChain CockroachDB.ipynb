{
 "cells": [
  {
   "cell_type": "code",
   "execution_count": 2,
   "id": "a90691ca-718d-4c9c-a564-86ac0945cd96",
   "metadata": {},
   "outputs": [
    {
     "name": "stdout",
     "output_type": "stream",
     "text": [
      "hi\n"
     ]
    }
   ],
   "source": [
    "print(\"hi\")"
   ]
  },
  {
   "cell_type": "code",
   "execution_count": 3,
   "id": "cf92851a-af02-4cc2-96cf-bbda981cd912",
   "metadata": {},
   "outputs": [],
   "source": [
    "import os\n",
    "os.environ['OPENAI_API_KEY'] = 'REDACTED'"
   ]
  },
  {
   "cell_type": "code",
   "execution_count": 4,
   "id": "11634969-f419-4688-97e4-b886a5a97d71",
   "metadata": {},
   "outputs": [],
   "source": [
    "# from langchain.chains.sql_database.prompt import SQL_PROMPTS\n",
    "\n",
    "# list(SQL_PROMPTS)"
   ]
  },
  {
   "cell_type": "code",
   "execution_count": 5,
   "id": "857c973f-b626-458e-a7d5-2aa633d69aa0",
   "metadata": {
    "scrolled": true
   },
   "outputs": [
    {
     "name": "stdout",
     "output_type": "stream",
     "text": [
      "Requirement already satisfied: psycopg2-binary in /opt/anaconda3/envs/chat-with-mysql/lib/python3.10/site-packages (2.9.10)\n",
      "Note: you may need to restart the kernel to use updated packages.\n"
     ]
    }
   ],
   "source": [
    "pip install psycopg2-binary"
   ]
  },
  {
   "cell_type": "code",
   "execution_count": 6,
   "id": "00b95f36-7a02-44fd-9728-87fb6e16a580",
   "metadata": {},
   "outputs": [],
   "source": [
    "from langchain_community.utilities import SQLDatabase"
   ]
  },
  {
   "cell_type": "code",
   "execution_count": 7,
   "id": "0e3f560c-2aca-4af1-b99f-6663decbe334",
   "metadata": {},
   "outputs": [],
   "source": [
    "# db_uri_pg_chinook = 'postgresql://hand@localhost:5432/chinook'\n",
    "# db_pg_chinook = SQLDatabase.from_uri(db_uri_pg_chinook)"
   ]
  },
  {
   "cell_type": "code",
   "execution_count": 8,
   "id": "5c49413b-18cb-4f80-b07f-263ef4a0c8de",
   "metadata": {},
   "outputs": [],
   "source": [
    "# db_pg_chinook.run(\"SELECT * from album LIMIT 5\")"
   ]
  },
  {
   "cell_type": "code",
   "execution_count": 9,
   "id": "a826cdd9-083f-4e16-be47-f36b6ad9ec94",
   "metadata": {},
   "outputs": [],
   "source": [
    "# db_pg_chinook.run('select version()')"
   ]
  },
  {
   "cell_type": "code",
   "execution_count": 10,
   "id": "1a29a2e5-1737-4a9e-a185-25adf924cc73",
   "metadata": {},
   "outputs": [
    {
     "name": "stdout",
     "output_type": "stream",
     "text": [
      "Requirement already satisfied: sqlalchemy-cockroachdb in /opt/anaconda3/envs/chat-with-mysql/lib/python3.10/site-packages (2.0.2)\n",
      "Requirement already satisfied: SQLAlchemy in /opt/anaconda3/envs/chat-with-mysql/lib/python3.10/site-packages (from sqlalchemy-cockroachdb) (2.0.37)\n",
      "Requirement already satisfied: typing-extensions>=4.6.0 in /opt/anaconda3/envs/chat-with-mysql/lib/python3.10/site-packages (from SQLAlchemy->sqlalchemy-cockroachdb) (4.12.2)\n",
      "Note: you may need to restart the kernel to use updated packages.\n"
     ]
    }
   ],
   "source": [
    "pip install sqlalchemy-cockroachdb"
   ]
  },
  {
   "cell_type": "code",
   "execution_count": 11,
   "id": "1ed70493-25d6-4173-854a-f24d563136e8",
   "metadata": {},
   "outputs": [],
   "source": [
    "# db_uri_crl_chinook = 'cockroachdb://root@crlMBP-NRWLD7WPC6MTc1.local:26257/chinook?sslmode=disable&options=-c%20search_path=crdb_internal,public'\n",
    "# db_crl_chinook = SQLDatabase.from_uri(db_uri_crl_chinook)"
   ]
  },
  {
   "cell_type": "code",
   "execution_count": 12,
   "id": "e2c1683f-f02f-45f3-8f92-c8a33d2b1a51",
   "metadata": {},
   "outputs": [],
   "source": [
    "db_uri_crl_chinook = 'cockroachdb://root@crlMBP-NRWLD7WPC6MTc1.local:26257/chinook?sslmode=disable'\n",
    "db_crl_chinook = SQLDatabase.from_uri(db_uri_crl_chinook)"
   ]
  },
  {
   "cell_type": "code",
   "execution_count": 13,
   "id": "1749b0bb-1b4f-4e09-bd80-0c6e7083086c",
   "metadata": {},
   "outputs": [
    {
     "data": {
      "text/plain": [
       "'[(10,)]'"
      ]
     },
     "execution_count": 13,
     "metadata": {},
     "output_type": "execute_result"
    }
   ],
   "source": [
    "db_crl_chinook.run(\"SELECT 10\")"
   ]
  },
  {
   "cell_type": "code",
   "execution_count": 15,
   "id": "ad04fd38-612b-45cb-8f89-8acdb24295b2",
   "metadata": {},
   "outputs": [
    {
     "data": {
      "text/plain": [
       "\"[('chinook', 'root', None, None, [], None), ('defaultdb', 'root', None, None, [], None), ('postgres', 'root', None, None, [], None), ('system', 'node', None, None, [], None)]\""
      ]
     },
     "execution_count": 15,
     "metadata": {},
     "output_type": "execute_result"
    }
   ],
   "source": [
    "db_crl_chinook.run(\"show databases\")"
   ]
  },
  {
   "cell_type": "code",
   "execution_count": 21,
   "id": "0bc27605-0b7d-49b3-bc6f-c64d949b6d41",
   "metadata": {},
   "outputs": [
    {
     "data": {
      "text/plain": [
       "\"[('public', 'album', 'table', 'root', 0, None), ('public', 'artist', 'table', 'root', 275, None), ('public', 'customer', 'table', 'root', 0, None), ('public', 'employee', 'table', 'root', 0, None), ('public', 'genre', 'table', 'root', 0, None), ('public', 'invoice', 'table', 'root', 412, None), ('public', 'invoice_line', 'table', 'root', 2240, None), ('public', 'media_type', 'table', 'root', 0, None), ('public', 'playlist', 'table', 'root', 0, None), ('public', 'playlist_track', 'table', 'root', 8715, None), ('public', 'track', 'table', 'root', 3503, None)]\""
      ]
     },
     "execution_count": 21,
     "metadata": {},
     "output_type": "execute_result"
    }
   ],
   "source": [
    "db_crl_chinook.run(\"show tables\")"
   ]
  },
  {
   "cell_type": "code",
   "execution_count": 22,
   "id": "e98b25ab-90bb-450e-a47b-40313866d878",
   "metadata": {},
   "outputs": [
    {
     "data": {
      "text/plain": [
       "\"[('CockroachDB CCL v24.1.4 (aarch64-apple-darwin21.2, built 2024/08/26 19:15:47, go1.22.5 X:nocoverageredesign)',)]\""
      ]
     },
     "execution_count": 22,
     "metadata": {},
     "output_type": "execute_result"
    }
   ],
   "source": [
    "db_crl_chinook.run(\"select version()\")"
   ]
  },
  {
   "cell_type": "code",
   "execution_count": 23,
   "id": "d62a26d6-2307-4bac-82d1-b524f351ff96",
   "metadata": {},
   "outputs": [
    {
     "data": {
      "text/plain": [
       "'[(347,)]'"
      ]
     },
     "execution_count": 23,
     "metadata": {},
     "output_type": "execute_result"
    }
   ],
   "source": [
    "db_crl_chinook.run(\"select count(*) from album\")"
   ]
  },
  {
   "cell_type": "code",
   "execution_count": 24,
   "id": "5acb6f24-1535-49f7-adf9-ba5625a91ff1",
   "metadata": {},
   "outputs": [
    {
     "data": {
      "text/plain": [
       "\"[(1, 'For Those About To Rock We Salute You', 1), (2, 'Balls to the Wall', 2), (3, 'Restless and Wild', 2), (4, 'Let There Be Rock', 1), (5, 'Big Ones', 3)]\""
      ]
     },
     "execution_count": 24,
     "metadata": {},
     "output_type": "execute_result"
    }
   ],
   "source": [
    "db_crl_chinook.run(\"select * from album limit 5\")"
   ]
  },
  {
   "cell_type": "code",
   "execution_count": 25,
   "id": "8110e162-ff98-4e21-a96e-450e9b342ed0",
   "metadata": {},
   "outputs": [
    {
     "data": {
      "text/plain": [
       "'[(5,)]'"
      ]
     },
     "execution_count": 25,
     "metadata": {},
     "output_type": "execute_result"
    }
   ],
   "source": [
    "db_crl_chinook.run(\"select count(*) from crdb_internal.cluster_contention_events;\")"
   ]
  },
  {
   "cell_type": "code",
   "execution_count": 26,
   "id": "afeffab4-96e2-48f4-9893-cebfcb366d66",
   "metadata": {},
   "outputs": [
    {
     "data": {
      "text/plain": [
       "\"[(Decimal('13'),)]\""
      ]
     },
     "execution_count": 26,
     "metadata": {},
     "output_type": "execute_result"
    }
   ],
   "source": [
    "db_crl_chinook.run(\"SELECT SUM(num_contention_events) AS total_contention_events FROM crdb_internal.cluster_contention_events;\")"
   ]
  },
  {
   "cell_type": "code",
   "execution_count": 27,
   "id": "4d08f409-1078-4621-b05f-4e3065ce69cc",
   "metadata": {},
   "outputs": [
    {
     "data": {
      "text/plain": [
       "'\\nCREATE TABLE album (\\n\\talbum_id INTEGER NOT NULL, \\n\\ttitle VARCHAR(160) NOT NULL, \\n\\tartist_id INTEGER NOT NULL, \\n\\tCONSTRAINT album_pkey PRIMARY KEY (album_id), \\n\\tCONSTRAINT album_artist_id_fkey FOREIGN KEY(artist_id) REFERENCES artist (artist_id)\\n)\\n\\n/*\\n3 rows from album table:\\nalbum_id\\ttitle\\tartist_id\\n1\\tFor Those About To Rock We Salute You\\t1\\n2\\tBalls to the Wall\\t2\\n3\\tRestless and Wild\\t2\\n*/\\n\\n\\nCREATE TABLE artist (\\n\\tartist_id INTEGER NOT NULL, \\n\\tname VARCHAR(120), \\n\\tCONSTRAINT artist_pkey PRIMARY KEY (artist_id)\\n)\\n\\n/*\\n3 rows from artist table:\\nartist_id\\tname\\n1\\tAC/DC\\n2\\tAccept\\n3\\tAerosmith\\n*/\\n\\n\\nCREATE TABLE customer (\\n\\tcustomer_id INTEGER NOT NULL, \\n\\tfirst_name VARCHAR(40) NOT NULL, \\n\\tlast_name VARCHAR(20) NOT NULL, \\n\\tcompany VARCHAR(80), \\n\\taddress VARCHAR(70), \\n\\tcity VARCHAR(40), \\n\\tstate VARCHAR(40), \\n\\tcountry VARCHAR(40), \\n\\tpostal_code VARCHAR(10), \\n\\tphone VARCHAR(24), \\n\\tfax VARCHAR(24), \\n\\temail VARCHAR(60) NOT NULL, \\n\\tsupport_rep_id INTEGER, \\n\\tCONSTRAINT customer_pkey PRIMARY KEY (customer_id), \\n\\tCONSTRAINT customer_support_rep_id_fkey FOREIGN KEY(support_rep_id) REFERENCES employee (employee_id)\\n)\\n\\n/*\\n3 rows from customer table:\\ncustomer_id\\tfirst_name\\tlast_name\\tcompany\\taddress\\tcity\\tstate\\tcountry\\tpostal_code\\tphone\\tfax\\temail\\tsupport_rep_id\\n1\\tLuís\\tGonçalves\\tEmbraer - Empresa Brasileira de Aeronáutica S.A.\\tAv. Brigadeiro Faria Lima, 2170\\tSão José dos Campos\\tSP\\tBrazil\\t12227-000\\t+55 (12) 3923-5555\\t+55 (12) 3923-5566\\tluisg@embraer.com.br\\t3\\n2\\tLeonie\\tKöhler\\tNone\\tTheodor-Heuss-Straße 34\\tStuttgart\\tNone\\tGermany\\t70174\\t+49 0711 2842222\\tNone\\tleonekohler@surfeu.de\\t5\\n3\\tFrançois\\tTremblay\\tNone\\t1498 rue Bélanger\\tMontréal\\tQC\\tCanada\\tH2G 1A7\\t+1 (514) 721-4711\\tNone\\tftremblay@gmail.com\\t3\\n*/\\n\\n\\nCREATE TABLE employee (\\n\\temployee_id INTEGER NOT NULL, \\n\\tlast_name VARCHAR(20) NOT NULL, \\n\\tfirst_name VARCHAR(20) NOT NULL, \\n\\ttitle VARCHAR(30), \\n\\treports_to INTEGER, \\n\\tbirth_date TIMESTAMP WITHOUT TIME ZONE, \\n\\thire_date TIMESTAMP WITHOUT TIME ZONE, \\n\\taddress VARCHAR(70), \\n\\tcity VARCHAR(40), \\n\\tstate VARCHAR(40), \\n\\tcountry VARCHAR(40), \\n\\tpostal_code VARCHAR(10), \\n\\tphone VARCHAR(24), \\n\\tfax VARCHAR(24), \\n\\temail VARCHAR(60), \\n\\tCONSTRAINT employee_pkey PRIMARY KEY (employee_id), \\n\\tCONSTRAINT employee_reports_to_fkey FOREIGN KEY(reports_to) REFERENCES employee (employee_id)\\n)\\n\\n/*\\n3 rows from employee table:\\nemployee_id\\tlast_name\\tfirst_name\\ttitle\\treports_to\\tbirth_date\\thire_date\\taddress\\tcity\\tstate\\tcountry\\tpostal_code\\tphone\\tfax\\temail\\n1\\tAdams\\tAndrew\\tGeneral Manager\\tNone\\t1962-02-18 00:00:00\\t2002-08-14 00:00:00\\t11120 Jasper Ave NW\\tEdmonton\\tAB\\tCanada\\tT5K 2N1\\t+1 (780) 428-9482\\t+1 (780) 428-3457\\tandrew@chinookcorp.com\\n2\\tEdwards\\tNancy\\tSales Manager\\t1\\t1958-12-08 00:00:00\\t2002-05-01 00:00:00\\t825 8 Ave SW\\tCalgary\\tAB\\tCanada\\tT2P 2T3\\t+1 (403) 262-3443\\t+1 (403) 262-3322\\tnancy@chinookcorp.com\\n3\\tPeacock\\tJane\\tSales Support Agent\\t2\\t1973-08-29 00:00:00\\t2002-04-01 00:00:00\\t1111 6 Ave SW\\tCalgary\\tAB\\tCanada\\tT2P 5M5\\t+1 (403) 262-3443\\t+1 (403) 262-6712\\tjane@chinookcorp.com\\n*/\\n\\n\\nCREATE TABLE genre (\\n\\tgenre_id INTEGER NOT NULL, \\n\\tname VARCHAR(120), \\n\\tCONSTRAINT genre_pkey PRIMARY KEY (genre_id)\\n)\\n\\n/*\\n3 rows from genre table:\\ngenre_id\\tname\\n1\\tRock\\n2\\tJazz\\n3\\tMetal\\n*/\\n\\n\\nCREATE TABLE invoice (\\n\\tinvoice_id INTEGER NOT NULL, \\n\\tcustomer_id INTEGER NOT NULL, \\n\\tinvoice_date TIMESTAMP WITHOUT TIME ZONE NOT NULL, \\n\\tbilling_address VARCHAR(70), \\n\\tbilling_city VARCHAR(40), \\n\\tbilling_state VARCHAR(40), \\n\\tbilling_country VARCHAR(40), \\n\\tbilling_postal_code VARCHAR(10), \\n\\ttotal DECIMAL(10, 2) NOT NULL, \\n\\tCONSTRAINT invoice_pkey PRIMARY KEY (invoice_id), \\n\\tCONSTRAINT invoice_customer_id_fkey FOREIGN KEY(customer_id) REFERENCES customer (customer_id)\\n)\\n\\n/*\\n3 rows from invoice table:\\ninvoice_id\\tcustomer_id\\tinvoice_date\\tbilling_address\\tbilling_city\\tbilling_state\\tbilling_country\\tbilling_postal_code\\ttotal\\n1\\t2\\t2021-01-01 00:00:00\\tTheodor-Heuss-Straße 34\\tStuttgart\\tNone\\tGermany\\t70174\\t1.98\\n2\\t4\\t2021-01-02 00:00:00\\tUllevålsveien 14\\tOslo\\tNone\\tNorway\\t0171\\t3.96\\n3\\t8\\t2021-01-03 00:00:00\\tGrétrystraat 63\\tBrussels\\tNone\\tBelgium\\t1000\\t5.94\\n*/\\n\\n\\nCREATE TABLE invoice_line (\\n\\tinvoice_line_id INTEGER NOT NULL, \\n\\tinvoice_id INTEGER NOT NULL, \\n\\ttrack_id INTEGER NOT NULL, \\n\\tunit_price DECIMAL(10, 2) NOT NULL, \\n\\tquantity INTEGER NOT NULL, \\n\\tCONSTRAINT invoice_line_pkey PRIMARY KEY (invoice_line_id), \\n\\tCONSTRAINT invoice_line_invoice_id_fkey FOREIGN KEY(invoice_id) REFERENCES invoice (invoice_id), \\n\\tCONSTRAINT invoice_line_track_id_fkey FOREIGN KEY(track_id) REFERENCES track (track_id)\\n)\\n\\n/*\\n3 rows from invoice_line table:\\ninvoice_line_id\\tinvoice_id\\ttrack_id\\tunit_price\\tquantity\\n1\\t1\\t2\\t0.99\\t1\\n2\\t1\\t4\\t0.99\\t1\\n3\\t2\\t6\\t0.99\\t1\\n*/\\n\\n\\nCREATE TABLE media_type (\\n\\tmedia_type_id INTEGER NOT NULL, \\n\\tname VARCHAR(120), \\n\\tCONSTRAINT media_type_pkey PRIMARY KEY (media_type_id)\\n)\\n\\n/*\\n3 rows from media_type table:\\nmedia_type_id\\tname\\n1\\tMPEG audio file\\n2\\tProtected AAC audio file\\n3\\tProtected MPEG-4 video file\\n*/\\n\\n\\nCREATE TABLE playlist (\\n\\tplaylist_id INTEGER NOT NULL, \\n\\tname VARCHAR(120), \\n\\tCONSTRAINT playlist_pkey PRIMARY KEY (playlist_id)\\n)\\n\\n/*\\n3 rows from playlist table:\\nplaylist_id\\tname\\n1\\tMusic\\n2\\tMovies\\n3\\tTV Shows\\n*/\\n\\n\\nCREATE TABLE playlist_track (\\n\\tplaylist_id INTEGER NOT NULL, \\n\\ttrack_id INTEGER NOT NULL, \\n\\tCONSTRAINT playlist_track_pkey PRIMARY KEY (playlist_id, track_id), \\n\\tCONSTRAINT playlist_track_playlist_id_fkey FOREIGN KEY(playlist_id) REFERENCES playlist (playlist_id), \\n\\tCONSTRAINT playlist_track_track_id_fkey FOREIGN KEY(track_id) REFERENCES track (track_id)\\n)\\n\\n/*\\n3 rows from playlist_track table:\\nplaylist_id\\ttrack_id\\n1\\t1\\n1\\t2\\n1\\t3\\n*/\\n\\n\\nCREATE TABLE track (\\n\\ttrack_id INTEGER NOT NULL, \\n\\tname VARCHAR(200) NOT NULL, \\n\\talbum_id INTEGER, \\n\\tmedia_type_id INTEGER NOT NULL, \\n\\tgenre_id INTEGER, \\n\\tcomposer VARCHAR(220), \\n\\tmilliseconds INTEGER NOT NULL, \\n\\tbytes INTEGER, \\n\\tunit_price DECIMAL(10, 2) NOT NULL, \\n\\tCONSTRAINT track_pkey PRIMARY KEY (track_id), \\n\\tCONSTRAINT track_album_id_fkey FOREIGN KEY(album_id) REFERENCES album (album_id), \\n\\tCONSTRAINT track_genre_id_fkey FOREIGN KEY(genre_id) REFERENCES genre (genre_id), \\n\\tCONSTRAINT track_media_type_id_fkey FOREIGN KEY(media_type_id) REFERENCES media_type (media_type_id)\\n)\\n\\n/*\\n3 rows from track table:\\ntrack_id\\tname\\talbum_id\\tmedia_type_id\\tgenre_id\\tcomposer\\tmilliseconds\\tbytes\\tunit_price\\n1\\tFor Those About To Rock (We Salute You)\\t1\\t1\\t1\\tAngus Young, Malcolm Young, Brian Johnson\\t343719\\t11170334\\t0.99\\n2\\tBalls to the Wall\\t2\\t2\\t1\\tU. Dirkschneider, W. Hoffmann, H. Frank, P. Baltes, S. Kaufmann, G. Hoffmann\\t342562\\t5510424\\t0.99\\n3\\tFast As a Shark\\t3\\t2\\t1\\tF. Baltes, S. Kaufman, U. Dirkscneider & W. Hoffman\\t230619\\t3990994\\t0.99\\n*/'"
      ]
     },
     "execution_count": 27,
     "metadata": {},
     "output_type": "execute_result"
    }
   ],
   "source": [
    "db_crl_chinook.get_table_info()"
   ]
  },
  {
   "cell_type": "code",
   "execution_count": 28,
   "id": "7ffaabc8-00d7-47eb-8683-84e2c036bff7",
   "metadata": {},
   "outputs": [
    {
     "data": {
      "text/plain": [
       "['album',\n",
       " 'artist',\n",
       " 'customer',\n",
       " 'employee',\n",
       " 'genre',\n",
       " 'invoice',\n",
       " 'invoice_line',\n",
       " 'media_type',\n",
       " 'playlist',\n",
       " 'playlist_track',\n",
       " 'track']"
      ]
     },
     "execution_count": 28,
     "metadata": {},
     "output_type": "execute_result"
    }
   ],
   "source": [
    "db_crl_chinook.get_usable_table_names()"
   ]
  },
  {
   "cell_type": "code",
   "execution_count": 30,
   "id": "901861c3-fa4a-4b36-abaf-59e8c57b775f",
   "metadata": {},
   "outputs": [],
   "source": [
    "from langchain_core.prompts import ChatPromptTemplate"
   ]
  },
  {
   "cell_type": "code",
   "execution_count": 31,
   "id": "56afccfb-54eb-481a-b71f-a8f1542722c9",
   "metadata": {},
   "outputs": [],
   "source": [
    "template_question_to_sql = \"\"\"\n",
    "Based on the table schema below, write a SQL query that would answer the user's question:\n",
    "{schema}\n",
    "\n",
    "Question: {question}\n",
    "SQL Query:\n",
    "\"\"\"\n",
    "\n",
    "prompt_question_to_sql = ChatPromptTemplate.from_template(template_question_to_sql)"
   ]
  },
  {
   "cell_type": "code",
   "execution_count": 32,
   "id": "7cbb9b03-102a-481b-a808-a232229059ca",
   "metadata": {},
   "outputs": [
    {
     "data": {
      "text/plain": [
       "\"Human: \\nBased on the table schema below, write a SQL query that would answer the user's question:\\nmy schema\\n\\nQuestion: how many users are there?\\nSQL Query:\\n\""
      ]
     },
     "execution_count": 32,
     "metadata": {},
     "output_type": "execute_result"
    }
   ],
   "source": [
    "prompt_question_to_sql.format(schema=\"my schema\", question=\"how many users are there?\")"
   ]
  },
  {
   "cell_type": "code",
   "execution_count": 33,
   "id": "29736375-024f-47a2-9501-aaf77faf2f05",
   "metadata": {},
   "outputs": [],
   "source": [
    "def get_schema_crl_chinook(_):\n",
    "    return db_crl_chinook.get_table_info()"
   ]
  },
  {
   "cell_type": "code",
   "execution_count": 34,
   "id": "5c462da7-e594-4cfa-982d-790af96ebbb1",
   "metadata": {},
   "outputs": [
    {
     "data": {
      "text/plain": [
       "'\\nCREATE TABLE album (\\n\\talbum_id INTEGER NOT NULL, \\n\\ttitle VARCHAR(160) NOT NULL, \\n\\tartist_id INTEGER NOT NULL, \\n\\tCONSTRAINT album_pkey PRIMARY KEY (album_id), \\n\\tCONSTRAINT album_artist_id_fkey FOREIGN KEY(artist_id) REFERENCES artist (artist_id)\\n)\\n\\n/*\\n3 rows from album table:\\nalbum_id\\ttitle\\tartist_id\\n1\\tFor Those About To Rock We Salute You\\t1\\n2\\tBalls to the Wall\\t2\\n3\\tRestless and Wild\\t2\\n*/\\n\\n\\nCREATE TABLE artist (\\n\\tartist_id INTEGER NOT NULL, \\n\\tname VARCHAR(120), \\n\\tCONSTRAINT artist_pkey PRIMARY KEY (artist_id)\\n)\\n\\n/*\\n3 rows from artist table:\\nartist_id\\tname\\n1\\tAC/DC\\n2\\tAccept\\n3\\tAerosmith\\n*/\\n\\n\\nCREATE TABLE customer (\\n\\tcustomer_id INTEGER NOT NULL, \\n\\tfirst_name VARCHAR(40) NOT NULL, \\n\\tlast_name VARCHAR(20) NOT NULL, \\n\\tcompany VARCHAR(80), \\n\\taddress VARCHAR(70), \\n\\tcity VARCHAR(40), \\n\\tstate VARCHAR(40), \\n\\tcountry VARCHAR(40), \\n\\tpostal_code VARCHAR(10), \\n\\tphone VARCHAR(24), \\n\\tfax VARCHAR(24), \\n\\temail VARCHAR(60) NOT NULL, \\n\\tsupport_rep_id INTEGER, \\n\\tCONSTRAINT customer_pkey PRIMARY KEY (customer_id), \\n\\tCONSTRAINT customer_support_rep_id_fkey FOREIGN KEY(support_rep_id) REFERENCES employee (employee_id)\\n)\\n\\n/*\\n3 rows from customer table:\\ncustomer_id\\tfirst_name\\tlast_name\\tcompany\\taddress\\tcity\\tstate\\tcountry\\tpostal_code\\tphone\\tfax\\temail\\tsupport_rep_id\\n1\\tLuís\\tGonçalves\\tEmbraer - Empresa Brasileira de Aeronáutica S.A.\\tAv. Brigadeiro Faria Lima, 2170\\tSão José dos Campos\\tSP\\tBrazil\\t12227-000\\t+55 (12) 3923-5555\\t+55 (12) 3923-5566\\tluisg@embraer.com.br\\t3\\n2\\tLeonie\\tKöhler\\tNone\\tTheodor-Heuss-Straße 34\\tStuttgart\\tNone\\tGermany\\t70174\\t+49 0711 2842222\\tNone\\tleonekohler@surfeu.de\\t5\\n3\\tFrançois\\tTremblay\\tNone\\t1498 rue Bélanger\\tMontréal\\tQC\\tCanada\\tH2G 1A7\\t+1 (514) 721-4711\\tNone\\tftremblay@gmail.com\\t3\\n*/\\n\\n\\nCREATE TABLE employee (\\n\\temployee_id INTEGER NOT NULL, \\n\\tlast_name VARCHAR(20) NOT NULL, \\n\\tfirst_name VARCHAR(20) NOT NULL, \\n\\ttitle VARCHAR(30), \\n\\treports_to INTEGER, \\n\\tbirth_date TIMESTAMP WITHOUT TIME ZONE, \\n\\thire_date TIMESTAMP WITHOUT TIME ZONE, \\n\\taddress VARCHAR(70), \\n\\tcity VARCHAR(40), \\n\\tstate VARCHAR(40), \\n\\tcountry VARCHAR(40), \\n\\tpostal_code VARCHAR(10), \\n\\tphone VARCHAR(24), \\n\\tfax VARCHAR(24), \\n\\temail VARCHAR(60), \\n\\tCONSTRAINT employee_pkey PRIMARY KEY (employee_id), \\n\\tCONSTRAINT employee_reports_to_fkey FOREIGN KEY(reports_to) REFERENCES employee (employee_id)\\n)\\n\\n/*\\n3 rows from employee table:\\nemployee_id\\tlast_name\\tfirst_name\\ttitle\\treports_to\\tbirth_date\\thire_date\\taddress\\tcity\\tstate\\tcountry\\tpostal_code\\tphone\\tfax\\temail\\n1\\tAdams\\tAndrew\\tGeneral Manager\\tNone\\t1962-02-18 00:00:00\\t2002-08-14 00:00:00\\t11120 Jasper Ave NW\\tEdmonton\\tAB\\tCanada\\tT5K 2N1\\t+1 (780) 428-9482\\t+1 (780) 428-3457\\tandrew@chinookcorp.com\\n2\\tEdwards\\tNancy\\tSales Manager\\t1\\t1958-12-08 00:00:00\\t2002-05-01 00:00:00\\t825 8 Ave SW\\tCalgary\\tAB\\tCanada\\tT2P 2T3\\t+1 (403) 262-3443\\t+1 (403) 262-3322\\tnancy@chinookcorp.com\\n3\\tPeacock\\tJane\\tSales Support Agent\\t2\\t1973-08-29 00:00:00\\t2002-04-01 00:00:00\\t1111 6 Ave SW\\tCalgary\\tAB\\tCanada\\tT2P 5M5\\t+1 (403) 262-3443\\t+1 (403) 262-6712\\tjane@chinookcorp.com\\n*/\\n\\n\\nCREATE TABLE genre (\\n\\tgenre_id INTEGER NOT NULL, \\n\\tname VARCHAR(120), \\n\\tCONSTRAINT genre_pkey PRIMARY KEY (genre_id)\\n)\\n\\n/*\\n3 rows from genre table:\\ngenre_id\\tname\\n1\\tRock\\n2\\tJazz\\n3\\tMetal\\n*/\\n\\n\\nCREATE TABLE invoice (\\n\\tinvoice_id INTEGER NOT NULL, \\n\\tcustomer_id INTEGER NOT NULL, \\n\\tinvoice_date TIMESTAMP WITHOUT TIME ZONE NOT NULL, \\n\\tbilling_address VARCHAR(70), \\n\\tbilling_city VARCHAR(40), \\n\\tbilling_state VARCHAR(40), \\n\\tbilling_country VARCHAR(40), \\n\\tbilling_postal_code VARCHAR(10), \\n\\ttotal DECIMAL(10, 2) NOT NULL, \\n\\tCONSTRAINT invoice_pkey PRIMARY KEY (invoice_id), \\n\\tCONSTRAINT invoice_customer_id_fkey FOREIGN KEY(customer_id) REFERENCES customer (customer_id)\\n)\\n\\n/*\\n3 rows from invoice table:\\ninvoice_id\\tcustomer_id\\tinvoice_date\\tbilling_address\\tbilling_city\\tbilling_state\\tbilling_country\\tbilling_postal_code\\ttotal\\n1\\t2\\t2021-01-01 00:00:00\\tTheodor-Heuss-Straße 34\\tStuttgart\\tNone\\tGermany\\t70174\\t1.98\\n2\\t4\\t2021-01-02 00:00:00\\tUllevålsveien 14\\tOslo\\tNone\\tNorway\\t0171\\t3.96\\n3\\t8\\t2021-01-03 00:00:00\\tGrétrystraat 63\\tBrussels\\tNone\\tBelgium\\t1000\\t5.94\\n*/\\n\\n\\nCREATE TABLE invoice_line (\\n\\tinvoice_line_id INTEGER NOT NULL, \\n\\tinvoice_id INTEGER NOT NULL, \\n\\ttrack_id INTEGER NOT NULL, \\n\\tunit_price DECIMAL(10, 2) NOT NULL, \\n\\tquantity INTEGER NOT NULL, \\n\\tCONSTRAINT invoice_line_pkey PRIMARY KEY (invoice_line_id), \\n\\tCONSTRAINT invoice_line_invoice_id_fkey FOREIGN KEY(invoice_id) REFERENCES invoice (invoice_id), \\n\\tCONSTRAINT invoice_line_track_id_fkey FOREIGN KEY(track_id) REFERENCES track (track_id)\\n)\\n\\n/*\\n3 rows from invoice_line table:\\ninvoice_line_id\\tinvoice_id\\ttrack_id\\tunit_price\\tquantity\\n1\\t1\\t2\\t0.99\\t1\\n2\\t1\\t4\\t0.99\\t1\\n3\\t2\\t6\\t0.99\\t1\\n*/\\n\\n\\nCREATE TABLE media_type (\\n\\tmedia_type_id INTEGER NOT NULL, \\n\\tname VARCHAR(120), \\n\\tCONSTRAINT media_type_pkey PRIMARY KEY (media_type_id)\\n)\\n\\n/*\\n3 rows from media_type table:\\nmedia_type_id\\tname\\n1\\tMPEG audio file\\n2\\tProtected AAC audio file\\n3\\tProtected MPEG-4 video file\\n*/\\n\\n\\nCREATE TABLE playlist (\\n\\tplaylist_id INTEGER NOT NULL, \\n\\tname VARCHAR(120), \\n\\tCONSTRAINT playlist_pkey PRIMARY KEY (playlist_id)\\n)\\n\\n/*\\n3 rows from playlist table:\\nplaylist_id\\tname\\n1\\tMusic\\n2\\tMovies\\n3\\tTV Shows\\n*/\\n\\n\\nCREATE TABLE playlist_track (\\n\\tplaylist_id INTEGER NOT NULL, \\n\\ttrack_id INTEGER NOT NULL, \\n\\tCONSTRAINT playlist_track_pkey PRIMARY KEY (playlist_id, track_id), \\n\\tCONSTRAINT playlist_track_playlist_id_fkey FOREIGN KEY(playlist_id) REFERENCES playlist (playlist_id), \\n\\tCONSTRAINT playlist_track_track_id_fkey FOREIGN KEY(track_id) REFERENCES track (track_id)\\n)\\n\\n/*\\n3 rows from playlist_track table:\\nplaylist_id\\ttrack_id\\n1\\t1\\n1\\t2\\n1\\t3\\n*/\\n\\n\\nCREATE TABLE track (\\n\\ttrack_id INTEGER NOT NULL, \\n\\tname VARCHAR(200) NOT NULL, \\n\\talbum_id INTEGER, \\n\\tmedia_type_id INTEGER NOT NULL, \\n\\tgenre_id INTEGER, \\n\\tcomposer VARCHAR(220), \\n\\tmilliseconds INTEGER NOT NULL, \\n\\tbytes INTEGER, \\n\\tunit_price DECIMAL(10, 2) NOT NULL, \\n\\tCONSTRAINT track_pkey PRIMARY KEY (track_id), \\n\\tCONSTRAINT track_album_id_fkey FOREIGN KEY(album_id) REFERENCES album (album_id), \\n\\tCONSTRAINT track_genre_id_fkey FOREIGN KEY(genre_id) REFERENCES genre (genre_id), \\n\\tCONSTRAINT track_media_type_id_fkey FOREIGN KEY(media_type_id) REFERENCES media_type (media_type_id)\\n)\\n\\n/*\\n3 rows from track table:\\ntrack_id\\tname\\talbum_id\\tmedia_type_id\\tgenre_id\\tcomposer\\tmilliseconds\\tbytes\\tunit_price\\n1\\tFor Those About To Rock (We Salute You)\\t1\\t1\\t1\\tAngus Young, Malcolm Young, Brian Johnson\\t343719\\t11170334\\t0.99\\n2\\tBalls to the Wall\\t2\\t2\\t1\\tU. Dirkschneider, W. Hoffmann, H. Frank, P. Baltes, S. Kaufmann, G. Hoffmann\\t342562\\t5510424\\t0.99\\n3\\tFast As a Shark\\t3\\t2\\t1\\tF. Baltes, S. Kaufman, U. Dirkscneider & W. Hoffman\\t230619\\t3990994\\t0.99\\n*/'"
      ]
     },
     "execution_count": 34,
     "metadata": {},
     "output_type": "execute_result"
    }
   ],
   "source": [
    "get_schema_crl_chinook(None)"
   ]
  },
  {
   "cell_type": "code",
   "execution_count": 35,
   "id": "303bcb76-dcfc-47d1-9c1a-d20b51b1cb6d",
   "metadata": {},
   "outputs": [],
   "source": [
    "from langchain_core.output_parsers import StrOutputParser\n",
    "from langchain_core.runnables import RunnablePassthrough\n",
    "from langchain_openai import ChatOpenAI"
   ]
  },
  {
   "cell_type": "code",
   "execution_count": 36,
   "id": "ee784d9f-4413-4286-bceb-30c8cc6af2f2",
   "metadata": {},
   "outputs": [],
   "source": [
    "llm = ChatOpenAI(temperature=0)"
   ]
  },
  {
   "cell_type": "code",
   "execution_count": 37,
   "id": "806a7138-4839-4840-9579-f6d743fc5365",
   "metadata": {},
   "outputs": [],
   "source": [
    "sql_chain_crl_chinook = (\n",
    "    RunnablePassthrough.assign(schema=get_schema_crl_chinook)\n",
    "    | prompt_question_to_sql\n",
    "    | llm.bind(stop=\"\\nSQL Result:\")\n",
    "    | StrOutputParser()\n",
    ")"
   ]
  },
  {
   "cell_type": "code",
   "execution_count": 38,
   "id": "2d918bb9-643a-4606-ba13-c4fc6565c5fd",
   "metadata": {},
   "outputs": [
    {
     "data": {
      "text/plain": [
       "'SELECT COUNT(artist_id) AS total_artists FROM artist;'"
      ]
     },
     "execution_count": 38,
     "metadata": {},
     "output_type": "execute_result"
    }
   ],
   "source": [
    "sql_chain_crl_chinook.invoke({\"question\": \"how many artists are there?\"})"
   ]
  },
  {
   "cell_type": "code",
   "execution_count": 40,
   "id": "31ac6bb1-255a-4df0-85e9-bb76306dd69d",
   "metadata": {},
   "outputs": [],
   "source": [
    "template_question_to_nl = \"\"\"\n",
    "Based on the table schema below, question, sql query, and sql response, write a natural language response:\n",
    "{schema}\n",
    "\n",
    "Question: {question}\n",
    "SQL Query: {query}\n",
    "SQL Response: {response}\"\"\"\n",
    "\n",
    "prompt_question_to_nl = ChatPromptTemplate.from_template(template_question_to_nl)"
   ]
  },
  {
   "cell_type": "code",
   "execution_count": 41,
   "id": "e1839ef8-98fa-41f7-8549-cd2e89bd9902",
   "metadata": {},
   "outputs": [],
   "source": [
    "def run_query_crl_chinook(query):\n",
    "    return db_crl_chinook.run(query)"
   ]
  },
  {
   "cell_type": "code",
   "execution_count": 42,
   "id": "44e3a95a-7d41-4c81-a86d-d01b3583e9f9",
   "metadata": {},
   "outputs": [
    {
     "data": {
      "text/plain": [
       "'[(275,)]'"
      ]
     },
     "execution_count": 42,
     "metadata": {},
     "output_type": "execute_result"
    }
   ],
   "source": [
    "run_query_crl_chinook('SELECT COUNT(*) AS total_artists FROM Artist;')"
   ]
  },
  {
   "cell_type": "code",
   "execution_count": 43,
   "id": "0cb2d982-456c-4b45-969d-5d66ba2399c2",
   "metadata": {},
   "outputs": [],
   "source": [
    "full_chain_crl_chinook_1 = (\n",
    "    RunnablePassthrough.assign(query=sql_chain_crl_chinook).assign(\n",
    "        schema=get_schema_crl_chinook,\n",
    "        response=lambda variables: print(variables)\n",
    "    )\n",
    ")"
   ]
  },
  {
   "cell_type": "code",
   "execution_count": 44,
   "id": "cb254169-812c-493f-b247-5ef1ccd5f9b5",
   "metadata": {},
   "outputs": [
    {
     "name": "stdout",
     "output_type": "stream",
     "text": [
      "{'question': 'how many artists are there?', 'query': 'SELECT COUNT(artist_id) AS total_artists FROM artist;'}\n"
     ]
    },
    {
     "data": {
      "text/plain": [
       "{'question': 'how many artists are there?',\n",
       " 'query': 'SELECT COUNT(artist_id) AS total_artists FROM artist;',\n",
       " 'schema': '\\nCREATE TABLE album (\\n\\talbum_id INTEGER NOT NULL, \\n\\ttitle VARCHAR(160) NOT NULL, \\n\\tartist_id INTEGER NOT NULL, \\n\\tCONSTRAINT album_pkey PRIMARY KEY (album_id), \\n\\tCONSTRAINT album_artist_id_fkey FOREIGN KEY(artist_id) REFERENCES artist (artist_id)\\n)\\n\\n/*\\n3 rows from album table:\\nalbum_id\\ttitle\\tartist_id\\n1\\tFor Those About To Rock We Salute You\\t1\\n2\\tBalls to the Wall\\t2\\n3\\tRestless and Wild\\t2\\n*/\\n\\n\\nCREATE TABLE artist (\\n\\tartist_id INTEGER NOT NULL, \\n\\tname VARCHAR(120), \\n\\tCONSTRAINT artist_pkey PRIMARY KEY (artist_id)\\n)\\n\\n/*\\n3 rows from artist table:\\nartist_id\\tname\\n1\\tAC/DC\\n2\\tAccept\\n3\\tAerosmith\\n*/\\n\\n\\nCREATE TABLE customer (\\n\\tcustomer_id INTEGER NOT NULL, \\n\\tfirst_name VARCHAR(40) NOT NULL, \\n\\tlast_name VARCHAR(20) NOT NULL, \\n\\tcompany VARCHAR(80), \\n\\taddress VARCHAR(70), \\n\\tcity VARCHAR(40), \\n\\tstate VARCHAR(40), \\n\\tcountry VARCHAR(40), \\n\\tpostal_code VARCHAR(10), \\n\\tphone VARCHAR(24), \\n\\tfax VARCHAR(24), \\n\\temail VARCHAR(60) NOT NULL, \\n\\tsupport_rep_id INTEGER, \\n\\tCONSTRAINT customer_pkey PRIMARY KEY (customer_id), \\n\\tCONSTRAINT customer_support_rep_id_fkey FOREIGN KEY(support_rep_id) REFERENCES employee (employee_id)\\n)\\n\\n/*\\n3 rows from customer table:\\ncustomer_id\\tfirst_name\\tlast_name\\tcompany\\taddress\\tcity\\tstate\\tcountry\\tpostal_code\\tphone\\tfax\\temail\\tsupport_rep_id\\n1\\tLuís\\tGonçalves\\tEmbraer - Empresa Brasileira de Aeronáutica S.A.\\tAv. Brigadeiro Faria Lima, 2170\\tSão José dos Campos\\tSP\\tBrazil\\t12227-000\\t+55 (12) 3923-5555\\t+55 (12) 3923-5566\\tluisg@embraer.com.br\\t3\\n2\\tLeonie\\tKöhler\\tNone\\tTheodor-Heuss-Straße 34\\tStuttgart\\tNone\\tGermany\\t70174\\t+49 0711 2842222\\tNone\\tleonekohler@surfeu.de\\t5\\n3\\tFrançois\\tTremblay\\tNone\\t1498 rue Bélanger\\tMontréal\\tQC\\tCanada\\tH2G 1A7\\t+1 (514) 721-4711\\tNone\\tftremblay@gmail.com\\t3\\n*/\\n\\n\\nCREATE TABLE employee (\\n\\temployee_id INTEGER NOT NULL, \\n\\tlast_name VARCHAR(20) NOT NULL, \\n\\tfirst_name VARCHAR(20) NOT NULL, \\n\\ttitle VARCHAR(30), \\n\\treports_to INTEGER, \\n\\tbirth_date TIMESTAMP WITHOUT TIME ZONE, \\n\\thire_date TIMESTAMP WITHOUT TIME ZONE, \\n\\taddress VARCHAR(70), \\n\\tcity VARCHAR(40), \\n\\tstate VARCHAR(40), \\n\\tcountry VARCHAR(40), \\n\\tpostal_code VARCHAR(10), \\n\\tphone VARCHAR(24), \\n\\tfax VARCHAR(24), \\n\\temail VARCHAR(60), \\n\\tCONSTRAINT employee_pkey PRIMARY KEY (employee_id), \\n\\tCONSTRAINT employee_reports_to_fkey FOREIGN KEY(reports_to) REFERENCES employee (employee_id)\\n)\\n\\n/*\\n3 rows from employee table:\\nemployee_id\\tlast_name\\tfirst_name\\ttitle\\treports_to\\tbirth_date\\thire_date\\taddress\\tcity\\tstate\\tcountry\\tpostal_code\\tphone\\tfax\\temail\\n1\\tAdams\\tAndrew\\tGeneral Manager\\tNone\\t1962-02-18 00:00:00\\t2002-08-14 00:00:00\\t11120 Jasper Ave NW\\tEdmonton\\tAB\\tCanada\\tT5K 2N1\\t+1 (780) 428-9482\\t+1 (780) 428-3457\\tandrew@chinookcorp.com\\n2\\tEdwards\\tNancy\\tSales Manager\\t1\\t1958-12-08 00:00:00\\t2002-05-01 00:00:00\\t825 8 Ave SW\\tCalgary\\tAB\\tCanada\\tT2P 2T3\\t+1 (403) 262-3443\\t+1 (403) 262-3322\\tnancy@chinookcorp.com\\n3\\tPeacock\\tJane\\tSales Support Agent\\t2\\t1973-08-29 00:00:00\\t2002-04-01 00:00:00\\t1111 6 Ave SW\\tCalgary\\tAB\\tCanada\\tT2P 5M5\\t+1 (403) 262-3443\\t+1 (403) 262-6712\\tjane@chinookcorp.com\\n*/\\n\\n\\nCREATE TABLE genre (\\n\\tgenre_id INTEGER NOT NULL, \\n\\tname VARCHAR(120), \\n\\tCONSTRAINT genre_pkey PRIMARY KEY (genre_id)\\n)\\n\\n/*\\n3 rows from genre table:\\ngenre_id\\tname\\n1\\tRock\\n2\\tJazz\\n3\\tMetal\\n*/\\n\\n\\nCREATE TABLE invoice (\\n\\tinvoice_id INTEGER NOT NULL, \\n\\tcustomer_id INTEGER NOT NULL, \\n\\tinvoice_date TIMESTAMP WITHOUT TIME ZONE NOT NULL, \\n\\tbilling_address VARCHAR(70), \\n\\tbilling_city VARCHAR(40), \\n\\tbilling_state VARCHAR(40), \\n\\tbilling_country VARCHAR(40), \\n\\tbilling_postal_code VARCHAR(10), \\n\\ttotal DECIMAL(10, 2) NOT NULL, \\n\\tCONSTRAINT invoice_pkey PRIMARY KEY (invoice_id), \\n\\tCONSTRAINT invoice_customer_id_fkey FOREIGN KEY(customer_id) REFERENCES customer (customer_id)\\n)\\n\\n/*\\n3 rows from invoice table:\\ninvoice_id\\tcustomer_id\\tinvoice_date\\tbilling_address\\tbilling_city\\tbilling_state\\tbilling_country\\tbilling_postal_code\\ttotal\\n1\\t2\\t2021-01-01 00:00:00\\tTheodor-Heuss-Straße 34\\tStuttgart\\tNone\\tGermany\\t70174\\t1.98\\n2\\t4\\t2021-01-02 00:00:00\\tUllevålsveien 14\\tOslo\\tNone\\tNorway\\t0171\\t3.96\\n3\\t8\\t2021-01-03 00:00:00\\tGrétrystraat 63\\tBrussels\\tNone\\tBelgium\\t1000\\t5.94\\n*/\\n\\n\\nCREATE TABLE invoice_line (\\n\\tinvoice_line_id INTEGER NOT NULL, \\n\\tinvoice_id INTEGER NOT NULL, \\n\\ttrack_id INTEGER NOT NULL, \\n\\tunit_price DECIMAL(10, 2) NOT NULL, \\n\\tquantity INTEGER NOT NULL, \\n\\tCONSTRAINT invoice_line_pkey PRIMARY KEY (invoice_line_id), \\n\\tCONSTRAINT invoice_line_invoice_id_fkey FOREIGN KEY(invoice_id) REFERENCES invoice (invoice_id), \\n\\tCONSTRAINT invoice_line_track_id_fkey FOREIGN KEY(track_id) REFERENCES track (track_id)\\n)\\n\\n/*\\n3 rows from invoice_line table:\\ninvoice_line_id\\tinvoice_id\\ttrack_id\\tunit_price\\tquantity\\n1\\t1\\t2\\t0.99\\t1\\n2\\t1\\t4\\t0.99\\t1\\n3\\t2\\t6\\t0.99\\t1\\n*/\\n\\n\\nCREATE TABLE media_type (\\n\\tmedia_type_id INTEGER NOT NULL, \\n\\tname VARCHAR(120), \\n\\tCONSTRAINT media_type_pkey PRIMARY KEY (media_type_id)\\n)\\n\\n/*\\n3 rows from media_type table:\\nmedia_type_id\\tname\\n1\\tMPEG audio file\\n2\\tProtected AAC audio file\\n3\\tProtected MPEG-4 video file\\n*/\\n\\n\\nCREATE TABLE playlist (\\n\\tplaylist_id INTEGER NOT NULL, \\n\\tname VARCHAR(120), \\n\\tCONSTRAINT playlist_pkey PRIMARY KEY (playlist_id)\\n)\\n\\n/*\\n3 rows from playlist table:\\nplaylist_id\\tname\\n1\\tMusic\\n2\\tMovies\\n3\\tTV Shows\\n*/\\n\\n\\nCREATE TABLE playlist_track (\\n\\tplaylist_id INTEGER NOT NULL, \\n\\ttrack_id INTEGER NOT NULL, \\n\\tCONSTRAINT playlist_track_pkey PRIMARY KEY (playlist_id, track_id), \\n\\tCONSTRAINT playlist_track_playlist_id_fkey FOREIGN KEY(playlist_id) REFERENCES playlist (playlist_id), \\n\\tCONSTRAINT playlist_track_track_id_fkey FOREIGN KEY(track_id) REFERENCES track (track_id)\\n)\\n\\n/*\\n3 rows from playlist_track table:\\nplaylist_id\\ttrack_id\\n1\\t1\\n1\\t2\\n1\\t3\\n*/\\n\\n\\nCREATE TABLE track (\\n\\ttrack_id INTEGER NOT NULL, \\n\\tname VARCHAR(200) NOT NULL, \\n\\talbum_id INTEGER, \\n\\tmedia_type_id INTEGER NOT NULL, \\n\\tgenre_id INTEGER, \\n\\tcomposer VARCHAR(220), \\n\\tmilliseconds INTEGER NOT NULL, \\n\\tbytes INTEGER, \\n\\tunit_price DECIMAL(10, 2) NOT NULL, \\n\\tCONSTRAINT track_pkey PRIMARY KEY (track_id), \\n\\tCONSTRAINT track_album_id_fkey FOREIGN KEY(album_id) REFERENCES album (album_id), \\n\\tCONSTRAINT track_genre_id_fkey FOREIGN KEY(genre_id) REFERENCES genre (genre_id), \\n\\tCONSTRAINT track_media_type_id_fkey FOREIGN KEY(media_type_id) REFERENCES media_type (media_type_id)\\n)\\n\\n/*\\n3 rows from track table:\\ntrack_id\\tname\\talbum_id\\tmedia_type_id\\tgenre_id\\tcomposer\\tmilliseconds\\tbytes\\tunit_price\\n1\\tFor Those About To Rock (We Salute You)\\t1\\t1\\t1\\tAngus Young, Malcolm Young, Brian Johnson\\t343719\\t11170334\\t0.99\\n2\\tBalls to the Wall\\t2\\t2\\t1\\tU. Dirkschneider, W. Hoffmann, H. Frank, P. Baltes, S. Kaufmann, G. Hoffmann\\t342562\\t5510424\\t0.99\\n3\\tFast As a Shark\\t3\\t2\\t1\\tF. Baltes, S. Kaufman, U. Dirkscneider & W. Hoffman\\t230619\\t3990994\\t0.99\\n*/',\n",
       " 'response': None}"
      ]
     },
     "execution_count": 44,
     "metadata": {},
     "output_type": "execute_result"
    }
   ],
   "source": [
    "full_chain_crl_chinook_1.invoke({\"question\": \"how many artists are there?\"})"
   ]
  },
  {
   "cell_type": "code",
   "execution_count": 45,
   "id": "c3425d5a-ae2c-4a8a-a717-3e5bed831015",
   "metadata": {},
   "outputs": [],
   "source": [
    "full_chain_crl_chinook_2 = (\n",
    "    RunnablePassthrough.assign(query=sql_chain_crl_chinook).assign(\n",
    "        schema=get_schema_crl_chinook,\n",
    "        response=lambda variables: run_query_crl_chinook(variables[\"query\"])\n",
    "    )\n",
    "    | prompt_question_to_nl\n",
    "    | llm\n",
    ")"
   ]
  },
  {
   "cell_type": "code",
   "execution_count": 46,
   "id": "503c8997-a0be-4449-962f-e16472364707",
   "metadata": {},
   "outputs": [
    {
     "data": {
      "text/plain": [
       "AIMessage(content='There are a total of 275 artists in the database.', additional_kwargs={'refusal': None}, response_metadata={'token_usage': {'completion_tokens': 13, 'prompt_tokens': 2102, 'total_tokens': 2115, 'completion_tokens_details': {'accepted_prediction_tokens': 0, 'audio_tokens': 0, 'reasoning_tokens': 0, 'rejected_prediction_tokens': 0}, 'prompt_tokens_details': {'audio_tokens': 0, 'cached_tokens': 0}}, 'model_name': 'gpt-3.5-turbo-0125', 'system_fingerprint': None, 'finish_reason': 'stop', 'logprobs': None}, id='run-95f0ab07-6ddc-4076-b2b5-da5dd11b3ee4-0', usage_metadata={'input_tokens': 2102, 'output_tokens': 13, 'total_tokens': 2115, 'input_token_details': {'audio': 0, 'cache_read': 0}, 'output_token_details': {'audio': 0, 'reasoning': 0}})"
      ]
     },
     "execution_count": 46,
     "metadata": {},
     "output_type": "execute_result"
    }
   ],
   "source": [
    "full_chain_crl_chinook_2.invoke({\"question\": \"how many artists are there?\"})"
   ]
  },
  {
   "cell_type": "code",
   "execution_count": 47,
   "id": "586f9c9a-7cc4-4363-be4a-66fbd8c9b2e4",
   "metadata": {},
   "outputs": [],
   "source": [
    "full_chain_crl_chinook_3 = (\n",
    "    RunnablePassthrough.assign(query=sql_chain_crl_chinook).assign(\n",
    "        schema=get_schema_crl_chinook,\n",
    "        response=lambda vars: run_query_crl_chinook(vars[\"query\"])\n",
    "    )\n",
    "    | prompt_question_to_nl\n",
    "    | llm\n",
    "    | StrOutputParser()\n",
    ")"
   ]
  },
  {
   "cell_type": "code",
   "execution_count": 48,
   "id": "25a2f33a-e10e-4136-848f-70ddaa59824c",
   "metadata": {},
   "outputs": [
    {
     "data": {
      "text/plain": [
       "'There are a total of 275 artists in the database.'"
      ]
     },
     "execution_count": 48,
     "metadata": {},
     "output_type": "execute_result"
    }
   ],
   "source": [
    "full_chain_crl_chinook_3.invoke({\"question\": \"how many artists are there?\"})"
   ]
  },
  {
   "cell_type": "code",
   "execution_count": 52,
   "id": "2e3babcf-8319-444a-85c9-e514e1f5fe1a",
   "metadata": {},
   "outputs": [
    {
     "name": "stdout",
     "output_type": "stream",
     "text": [
      "----------------------------------------------------------------------------------------------------------\n"
     ]
    }
   ],
   "source": [
    "print('----------------------------------------------------------------------------------------------------------')"
   ]
  },
  {
   "cell_type": "code",
   "execution_count": 49,
   "id": "90911835-c3ba-4a9b-84c3-dc94094fc585",
   "metadata": {},
   "outputs": [],
   "source": [
    "with open(\"/Users/hand/Documents/projects/ChatGPT/contention/contention_table_schema_and_guidance.txt\", \"r\") as file:\n",
    "    schema_and_guidance = file.read()"
   ]
  },
  {
   "cell_type": "code",
   "execution_count": 50,
   "id": "8c3d45d5-9652-4e62-8edd-98cb11373098",
   "metadata": {},
   "outputs": [
    {
     "name": "stdout",
     "output_type": "stream",
     "text": [
      "You are a relational database expert.  I will tell you a database schema and explain what the tables mean.  Then you will give me SQL queries for the data I seek.\n",
      "\n",
      "I am using the CockroachDB database.\n"
     ]
    }
   ],
   "source": [
    "print(schema_and_guidance[:200])"
   ]
  },
  {
   "cell_type": "code",
   "execution_count": 51,
   "id": "dc60b3a9-07c6-4ae2-b19d-2f80bd7becb9",
   "metadata": {},
   "outputs": [],
   "source": [
    "def get_schema_contention(_):\n",
    "    return schema_and_guidance"
   ]
  },
  {
   "cell_type": "code",
   "execution_count": 52,
   "id": "87eeb7c8-bbd8-43ac-8b26-ddd979b1480f",
   "metadata": {},
   "outputs": [
    {
     "name": "stdout",
     "output_type": "stream",
     "text": [
      "You are a relational database expert.  I will tell you a database schema and explain what the tables mean.  Then you will give me SQL queries for the data I seek.\n",
      "\n",
      "I am using the CockroachDB database.\n"
     ]
    }
   ],
   "source": [
    "print(get_schema_contention(None)[:200])"
   ]
  },
  {
   "cell_type": "code",
   "execution_count": 53,
   "id": "5d8ca74b-12a9-4a66-8060-9bdeea4cefef",
   "metadata": {},
   "outputs": [
    {
     "data": {
      "text/plain": [
       "\"Human: \\nBased on the table schema below, write a SQL query that would answer the user's question:\\nmy schema\\n\\nQuestion: how many contention events are there?\\nSQL Query:\\n\""
      ]
     },
     "execution_count": 53,
     "metadata": {},
     "output_type": "execute_result"
    }
   ],
   "source": [
    "prompt_question_to_sql.format(schema=\"my schema\", question=\"how many contention events are there?\")"
   ]
  },
  {
   "cell_type": "code",
   "execution_count": 54,
   "id": "fd502f35-b390-48fa-9ff4-f7258b7f00cf",
   "metadata": {},
   "outputs": [],
   "source": [
    "# llm = ChatOpenAI()"
   ]
  },
  {
   "cell_type": "code",
   "execution_count": 55,
   "id": "3736cef3-d502-4af0-be1b-662f70fb658c",
   "metadata": {},
   "outputs": [],
   "source": [
    "sql_chain_contention = (\n",
    "    RunnablePassthrough.assign(schema=get_schema_contention)\n",
    "    | prompt_question_to_sql\n",
    "    | llm.bind(stop=\"\\nSQL Result:\")\n",
    "    | StrOutputParser()\n",
    ")"
   ]
  },
  {
   "cell_type": "code",
   "execution_count": 56,
   "id": "38a5def1-ea69-4bba-acd1-22c164357ea9",
   "metadata": {},
   "outputs": [
    {
     "data": {
      "text/plain": [
       "'SELECT SUM(num_contention_events) AS total_contention_events\\nFROM crdb_internal.cluster_contention_events;'"
      ]
     },
     "execution_count": 56,
     "metadata": {},
     "output_type": "execute_result"
    }
   ],
   "source": [
    "sql_chain_contention.invoke({\"question\": \"how many contention events are there?\"})"
   ]
  },
  {
   "cell_type": "code",
   "execution_count": 57,
   "id": "bf317ea7-cd5d-4654-8356-1ef563da7795",
   "metadata": {},
   "outputs": [],
   "source": [
    "full_chain_contention_1 = (\n",
    "    RunnablePassthrough.assign(query=sql_chain_contention).assign(\n",
    "        schema=get_schema_contention,\n",
    "        response=lambda variables: print(variables)\n",
    "    )\n",
    ")"
   ]
  },
  {
   "cell_type": "code",
   "execution_count": 58,
   "id": "1e19449d-6190-45e8-bb94-8bbf66af88f7",
   "metadata": {},
   "outputs": [
    {
     "name": "stdout",
     "output_type": "stream",
     "text": [
      "{'question': 'how many contention events are there?', 'query': 'SELECT SUM(num_contention_events) AS total_contention_events\\nFROM crdb_internal.cluster_contention_events;'}\n"
     ]
    },
    {
     "data": {
      "text/plain": [
       "{'question': 'how many contention events are there?',\n",
       " 'query': 'SELECT SUM(num_contention_events) AS total_contention_events\\nFROM crdb_internal.cluster_contention_events;',\n",
       " 'schema': 'You are a relational database expert.  I will tell you a database schema and explain what the tables mean.  Then you will give me SQL queries for the data I seek.\\n\\nI am using the CockroachDB database.  The SQL I will use will be compatible with CockroachDB.\\n\\nHere is the first table definition:\\n\\nCREATE TABLE crdb_internal.cluster_contention_events (\\n      table_id INT8 NULL,\\n      index_id INT8 NULL,\\n      num_contention_events INT8 NOT NULL,\\n      cumulative_contention_time INTERVAL NOT NULL,\\n      key BYTES NOT NULL,\\n      txn_id UUID NOT NULL,\\n      count INT8 NOT NULL\\n  )\\n\\nHere is another table:\\n\\nCREATE TABLE crdb_internal.transaction_contention_events (\\n      collection_ts TIMESTAMPTZ NOT NULL,\\n      blocking_txn_id UUID NOT NULL,\\n      blocking_txn_fingerprint_id BYTES NOT NULL,\\n      waiting_txn_id UUID NOT NULL,\\n      waiting_txn_fingerprint_id BYTES NOT NULL,\\n      contention_duration INTERVAL NOT NULL,\\n      contending_key BYTES NOT NULL,\\n      contending_pretty_key STRING NOT NULL,\\n      waiting_stmt_id STRING NOT NULL,\\n      waiting_stmt_fingerprint_id BYTES NOT NULL,\\n      database_name STRING NOT NULL,\\n      schema_name STRING NOT NULL,\\n      table_name STRING NOT NULL,\\n      index_name STRING NULL,\\n      contention_type STRING NOT NULL\\n  )\\n\\nHere is another table:\\n\\nCREATE TABLE crdb_internal.cluster_contended_indexes (\\n      database_name STRING NULL,\\n      schema_name STRING NULL,\\n      table_name STRING NULL,\\n      index_name STRING NULL,\\n      num_contention_events INT8 NULL,\\n      rowid INT8 NOT VISIBLE NOT NULL DEFAULT unique_rowid(),\\n      CONSTRAINT cluster_contended_indexes_pkey PRIMARY KEY (rowid ASC)\\n  )\\n\\nCREATE TABLE crdb_internal.cluster_contended_keys (\\n      database_name STRING NULL,\\n      schema_name STRING NULL,\\n      table_name STRING NULL,\\n      index_name STRING NULL,\\n      key STRING NULL,\\n      num_contention_events DECIMAL NULL,\\n      rowid INT8 NOT VISIBLE NOT NULL DEFAULT unique_rowid(),\\n      CONSTRAINT cluster_contended_keys_pkey PRIMARY KEY (rowid ASC)\\n  )\\n\\nCREATE TABLE crdb_internal.cluster_contended_tables (\\n      database_name STRING NULL,\\n      schema_name STRING NULL,\\n      table_name STRING NULL,\\n      num_contention_events DECIMAL NULL,\\n      rowid INT8 NOT VISIBLE NOT NULL DEFAULT unique_rowid(),\\n      CONSTRAINT cluster_contended_tables_pkey PRIMARY KEY (rowid ASC)\\n  )\\n\\nCREATE TABLE crdb_internal.cluster_locks (\\n      range_id INT8 NOT NULL,\\n      table_id INT8 NOT NULL,\\n      database_name STRING NOT NULL,\\n      schema_name STRING NOT NULL,\\n      table_name STRING NOT NULL,\\n      index_name STRING NULL,\\n      lock_key BYTES NOT NULL,\\n      lock_key_pretty STRING NOT NULL,\\n      txn_id UUID NULL,\\n      ts TIMESTAMP NULL,\\n      lock_strength STRING NULL,\\n      durability STRING NULL,\\n      granted BOOL NULL,\\n      contended BOOL NOT NULL,\\n      duration INTERVAL NULL,\\n      isolation_level STRING NULL,\\n      INDEX cluster_locks_table_id_idx (table_id ASC) STORING (range_id, database_name, schema_name, table_name, index_name, lock_key, lock_key_pretty, txn_id, ts, lock_strength, durability, granted, contended, duration, isolation_level),\\n      INDEX cluster_locks_database_name_idx (database_name ASC) STORING (range_id, table_id, schema_name, table_name, index_name, lock_key, lock_key_pretty, txn_id, ts, lock_strength, durability, granted, contended, duration, isolation_level),\\n      INDEX cluster_locks_table_name_idx (table_name ASC) STORING (range_id, table_id, database_name, schema_name, index_name, lock_key, lock_key_pretty, txn_id, ts, lock_strength, durability, granted, contended, duration, isolation_level),\\n      INDEX cluster_locks_contended_idx (contended ASC) STORING (range_id, table_id, database_name, schema_name, table_name, index_name, lock_key, lock_key_pretty, txn_id, ts, lock_strength, durability, granted, duration, isolation_level)\\n  )\\n\\nCREATE TABLE crdb_internal.node_contention_events (\\n      table_id INT8 NULL,\\n      index_id INT8 NULL,\\n      num_contention_events INT8 NOT NULL,\\n      cumulative_contention_time INTERVAL NOT NULL,\\n      key BYTES NOT NULL,\\n      txn_id UUID NOT NULL,\\n      count INT8 NOT NULL\\n  )\\n\\nCREATE TABLE crdb_internal.table_indexes (\\n      descriptor_id INT8 NULL,\\n      descriptor_name STRING NOT NULL,\\n      index_id INT8 NOT NULL,\\n      index_name STRING NOT NULL,\\n      index_type STRING NOT NULL,\\n      is_unique BOOL NOT NULL,\\n      is_inverted BOOL NOT NULL,\\n      is_sharded BOOL NOT NULL,\\n      is_visible BOOL NOT NULL,\\n      visibility FLOAT8 NOT NULL,\\n      shard_bucket_count INT8 NULL,\\n      created_at TIMESTAMP NULL,\\n      create_statement STRING NOT NULL\\n  )\\n\\nCREATE TABLE crdb_internal.tables (\\n      table_id INT8 NOT NULL,\\n      parent_id INT8 NOT NULL,\\n      name STRING NOT NULL,\\n      database_name STRING NULL,\\n      version INT8 NOT NULL,\\n      mod_time TIMESTAMP NOT NULL,\\n      mod_time_logical DECIMAL NOT NULL,\\n      format_version STRING NOT NULL,\\n      state STRING NOT NULL,\\n      sc_lease_node_id INT8 NULL,\\n      sc_lease_expiration_time TIMESTAMP NULL,\\n      drop_time TIMESTAMP NULL,\\n      audit_mode STRING NOT NULL,\\n      schema_name STRING NOT NULL,\\n      parent_schema_id INT8 NOT NULL,\\n      locality STRING NULL,\\n      INDEX tables_parent_id_idx (parent_id ASC) STORING (table_id, name, database_name, version, mod_time, mod_time_logical, format_version, state, sc_lease_node_id, sc_lease_expiration_time, drop_time, audit_mode, schema_name, parent_schema_id, locality) WHERE drop_time IS NULL,\\n      INDEX tables_database_name_idx (database_name ASC) STORING (table_id, parent_id, name, version, mod_time, mod_time_logical, format_version, state, sc_lease_node_id, sc_lease_expiration_time, drop_time, audit_mode, schema_name, parent_schema_id, locality) WHERE drop_time IS NULL\\n  )\\n\\nCREATE TABLE crdb_internal.cluster_transaction_statistics (\\n      aggregated_ts TIMESTAMPTZ NOT NULL,\\n      fingerprint_id BYTES NOT NULL,\\n      app_name STRING NOT NULL,\\n      metadata JSONB NOT NULL,\\n      statistics JSONB NOT NULL,\\n      aggregation_interval INTERVAL NOT NULL\\n  )\\n\\nHere are descriptions of each of the columns of the cluster_contended_indexes table:\\n\\ndatabase_name\\tThe name of the database experiencing contention.\\nschema_name\\tThe name of the schema experiencing contention.\\ntable_name\\tThe name of the table experiencing contention.\\nindex_name\\tThe name of the index experiencing contention.\\nnum_contention_events\\tThe number of contention events.\\n\\nHere are descriptions of each of the columns of the cluster_contended_keys table:\\n\\ndatabase_name           The name of the database experiencing contention.\\nschema_name             The name of the schema experiencing contention.\\ntable_name              The name of the table experiencing contention.\\nindex_name              The name of the index experiencing contention.\\nkey                     The key experiencing contention.\\nnum_contention_events   The number of contention events. \\n\\nHere are descriptions of each of the columns of the cluster_contended_tables table:\\n\\ndatabase_name           The name of the database experiencing contention.\\nschema_name             The name of the schema experiencing contention.\\ntable_name              The name of the table experiencing contention.\\nnum_contention_events   The number of contention events. \\n\\nHere are descriptions of each of the columns of the cluster_contention_events table:\\n\\ntable_id                        Unique table identifier.\\nindex_id                        Unique index identifier.\\nnum_contention_events           The number of contention events. \\ncumulative_contention_time      The cumulative time that the transaction spends waiting in contention.\\nkey                             The key experiencing contention.\\ntxn_id                          Unique transaction identifier.\\ncount                           The number of contention events. \\n\\nHere are descriptions of each of the columns of the cluster_locks table:\\n\\nrange_id        The ID of the range that stores the key the lock is being acquired on.\\ntable_id        The ID of the table that includes the key the lock is being acquired on.\\ndatabase_name   The name of the database that includes the key the lock is being acquired on.\\nschema_name     The name of the schema that includes the key this lock is being acquired on.\\ntable_name      The name of the table that includes the key this lock is being acquired on.\\nindex_name      The name of the index that includes the key this lock is being acquired on.\\nlock_key        The actual key that this lock is being acquired on.\\nlock_key_pretty A string representation of the key this lock is being acquired on.\\ntxn_id          The ID of the transaction that is acquiring this lock.\\nts              The timestamp at which this lock was acquired.\\nlock_strength   The strength of this lock. Allowed values: \"Exclusive\" or \"None\" (read-only requests don\\'t need an exclusive lock).\\ndurability      Whether the lock is one of: Replicated or Unreplicated. For more information about lock replication, see types of locking.\\ngranted         Whether this lock has been granted to the transaction requesting it.\\ncontended       Whether multiple transactions are trying to acquire a lock on this key.\\nduration        The length of time this lock has been held for.\\n\\nHere are descriptions of each of the columns of the transaction_contention_events table:\\n\\ncollection_ts                   The timestamp when the transaction contention event was collected.\\nblocking_txn_id                 The ID of the blocking transaction. You can join this column into the cluster_contention_events table.\\nblocking_txn_fingerprint_id     The ID of the blocking transaction fingerprint. To surface historical information about the transactions that caused the contention, you can join this column into the statement_statistics and transaction_statistics tables to surface historical information about the transactions that caused the contention.\\nwaiting_txn_id                  The ID of the waiting transaction. You can join this column into the cluster_contention_events table.\\nwaiting_txn_fingerprint_id      The ID of the waiting transaction fingerprint. To surface historical information about the transactions that caused the contention, you can join this column into the statement_statistics and transaction_statistics tables.\\ncontention_duration             The interval of time the waiting transaction spent waiting for the blocking transaction.\\ncontending_key                  The key on which the transactions contended. \\n\\nHere are summaries of the kind of information each table contains:\\n\\ncluster_contended_indexes       Contains information about contended indexes in your cluster.   \\ncluster_contended_keys  Contains information about contended keys in your cluster.      \\ncluster_contended_tables        Contains information about contended tables in your cluster.    \\ncluster_contention_events       Contains information about contention in your cluster.  \\ncluster_locks   Contains information about locks held by transactions on specific keys.\\nnode_contention_events  Contains information about contention on the gateway node of your cluster.\\ntransaction_contention_events   Contains information about historical transaction contention events.\\ntables  Contains information about tables in your cluster.\\ntable_indexes   Contains information about table indexes in your cluster.\\n\\nHere is some additional information about the cluster_contended_indexes table: The cluster_contended_indexes table only has rows for which the number of contention events is greater than zero.\\n\\nHere is some additional information about the cluster_contended_keys table: The cluster_contended_keys table only has rows for which the number of contention events is greater than zero.\\n\\nHere is some additional information about the cluster_contended_tables table: The cluster_contended_tables table only has rows for which the number of contention events is greater than zero.\\n\\nHere is some additional information about the cluster_contention_events table: This table only has rows for which the number of contention events is greater than zero.\\n\\nNote that the cluster_contention_events table can be joined to the table_indexes table by finding rows for which the table_id column of the cluster_contention_events table matches the descriptor_id column of the table_indexes table. \\n\\nHere is a way to determine if an application name is a system application name: All system application names begin with a dollar sign.\\n',\n",
       " 'response': None}"
      ]
     },
     "execution_count": 58,
     "metadata": {},
     "output_type": "execute_result"
    }
   ],
   "source": [
    "full_chain_contention_1.invoke({\"question\": \"how many contention events are there?\"})"
   ]
  },
  {
   "cell_type": "code",
   "execution_count": 59,
   "id": "9eee495f-17a2-4ff5-8380-4cdcaff06fff",
   "metadata": {},
   "outputs": [],
   "source": [
    "full_chain_contention_2 = (\n",
    "    RunnablePassthrough.assign(query=sql_chain_contention).assign(\n",
    "        schema=get_schema_contention,\n",
    "        response=lambda variables: run_query_crl_chinook(variables[\"query\"])\n",
    "    )\n",
    "    | prompt_question_to_nl\n",
    "    | llm\n",
    ")"
   ]
  },
  {
   "cell_type": "code",
   "execution_count": 60,
   "id": "a503ae07-8fcb-4b3a-8c87-24d1a261c0aa",
   "metadata": {},
   "outputs": [
    {
     "data": {
      "text/plain": [
       "AIMessage(content='There are a total of 13 contention events in the cluster_contention_events table.', additional_kwargs={'refusal': None}, response_metadata={'token_usage': {'completion_tokens': 18, 'prompt_tokens': 2551, 'total_tokens': 2569, 'completion_tokens_details': {'accepted_prediction_tokens': 0, 'audio_tokens': 0, 'reasoning_tokens': 0, 'rejected_prediction_tokens': 0}, 'prompt_tokens_details': {'audio_tokens': 0, 'cached_tokens': 0}}, 'model_name': 'gpt-3.5-turbo-0125', 'system_fingerprint': None, 'finish_reason': 'stop', 'logprobs': None}, id='run-6841a935-2b8a-4105-92ae-c2314d2d5ec5-0', usage_metadata={'input_tokens': 2551, 'output_tokens': 18, 'total_tokens': 2569, 'input_token_details': {'audio': 0, 'cache_read': 0}, 'output_token_details': {'audio': 0, 'reasoning': 0}})"
      ]
     },
     "execution_count": 60,
     "metadata": {},
     "output_type": "execute_result"
    }
   ],
   "source": [
    "full_chain_contention_2.invoke({\"question\": \"how many contention events are there?\"})"
   ]
  },
  {
   "cell_type": "code",
   "execution_count": 61,
   "id": "8bdd3ef2-61e1-442b-a1ff-4884c05896ef",
   "metadata": {},
   "outputs": [],
   "source": [
    "full_chain_contention_3 = (\n",
    "    RunnablePassthrough.assign(query=sql_chain_contention).assign(\n",
    "        schema=get_schema_contention,\n",
    "        response=lambda vars: run_query_crl_chinook(vars[\"query\"])\n",
    "    )\n",
    "    | prompt_question_to_nl\n",
    "    | llm\n",
    "    | StrOutputParser()\n",
    ")"
   ]
  },
  {
   "cell_type": "code",
   "execution_count": 62,
   "id": "d63f9179-904d-457a-9f7e-df4b8c760cec",
   "metadata": {},
   "outputs": [
    {
     "data": {
      "text/plain": [
       "'There are a total of 13 contention events in the cluster_contention_events table.'"
      ]
     },
     "execution_count": 62,
     "metadata": {},
     "output_type": "execute_result"
    }
   ],
   "source": [
    "full_chain_contention_3.invoke({\"question\": \"how many contention events are there?\"})"
   ]
  },
  {
   "cell_type": "code",
   "execution_count": null,
   "id": "98850b6f-68eb-4e99-bcac-e8e7aa828c80",
   "metadata": {},
   "outputs": [],
   "source": []
  },
  {
   "cell_type": "code",
   "execution_count": null,
   "id": "8b07a506-6c2f-4290-906e-d5c9dcb2b84e",
   "metadata": {},
   "outputs": [],
   "source": []
  }
 ],
 "metadata": {
  "kernelspec": {
   "display_name": "Python 3 (ipykernel)",
   "language": "python",
   "name": "python3"
  },
  "language_info": {
   "codemirror_mode": {
    "name": "ipython",
    "version": 3
   },
   "file_extension": ".py",
   "mimetype": "text/x-python",
   "name": "python",
   "nbconvert_exporter": "python",
   "pygments_lexer": "ipython3",
   "version": "3.10.16"
  }
 },
 "nbformat": 4,
 "nbformat_minor": 5
}
